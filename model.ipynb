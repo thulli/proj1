{
  "nbformat": 4,
  "nbformat_minor": 0,
  "metadata": {
    "colab": {
      "provenance": [],
      "authorship_tag": "ABX9TyPJ5auBTFE4P08s2zxbS8Nw",
      "include_colab_link": true
    },
    "kernelspec": {
      "name": "python3",
      "display_name": "Python 3"
    },
    "language_info": {
      "name": "python"
    }
  },
  "cells": [
    {
      "cell_type": "markdown",
      "metadata": {
        "id": "view-in-github",
        "colab_type": "text"
      },
      "source": [
        "<a href=\"https://colab.research.google.com/github/thulli/proj1/blob/master/model.ipynb\" target=\"_parent\"><img src=\"https://colab.research.google.com/assets/colab-badge.svg\" alt=\"Open In Colab\"/></a>"
      ]
    },
    {
      "cell_type": "code",
      "execution_count": 21,
      "metadata": {
        "id": "qsFVWKtUP5ie"
      },
      "outputs": [],
      "source": [
        "import torch\n",
        "import torch.nn as nn\n",
        "import math"
      ]
    },
    {
      "cell_type": "code",
      "source": [
        "# Input Embedding is done\n",
        "class InputEmbeddings(torch.nn.Module):\n",
        "    def __init__(self, d_model: int, vocab_size: int):\n",
        "        super().__init__()\n",
        "        self.d_model = d_model\n",
        "        self.vocab_size = vocab_size\n",
        "        self.embedding = torch.nn.Embedding(vocab_size, d_model)\n",
        "\n",
        "        print(self.embedding.weight.shape)\n",
        "\n",
        "    def forward(self, x):\n",
        "        return self.embedding(x) * self.d_model ** 0.5\n",
        "\n",
        "\n"
      ],
      "metadata": {
        "id": "p9HrCdUAQsXc"
      },
      "execution_count": 20,
      "outputs": []
    },
    {
      "cell_type": "code",
      "source": [
        "# Positional Emebedding\n",
        "class PositionalEncoding(torch.nn.Module):\n",
        "    def __init__(self, d_model: int, seq_len: int = 5000, dropout: int=0.5):\n",
        "        super().__init__()\n",
        "        self.d_model = d_model\n",
        "        self.seq_len = seq_len\n",
        "        self.dropout = torch.nn.Dropout(dropout)\n",
        "\n",
        "        pe = torch.zeros(seq_len, d_model)\n",
        "\n",
        "        position = torch.arange(0, seq_len, dtype=torch.float).unsqueeze(1)\n",
        "        div_term = torch.exp(torch.arange(0, d_model, 2).float() * (-math.log(10000.0)) / d_model)\n",
        "\n",
        "        pe[:, 0::2] = torch.sin(position * div_term)\n",
        "        pe[:, 1::2] = torch.cos(position * div_term)\n",
        "\n",
        "        pe = pe.unsqueeze(0)\n",
        "        self.register_buffer('pe', pe)\n",
        "\n",
        "    def forward(self, x):\n",
        "        x = x + (self.pe[:, :x.size(1), :]).requires_grad_(False)\n",
        "        return self.dropout(x)\n"
      ],
      "metadata": {
        "id": "MWjquUCKRaEi"
      },
      "execution_count": 32,
      "outputs": []
    },
    {
      "cell_type": "code",
      "source": [
        "class LayerNormalization(torch.nn.Module):\n",
        "    def __init__(self, eps: float = 10**-6):\n",
        "        super().__init__()\n",
        "        self.eps = eps\n",
        "\n",
        "        self.alpha = torch.nn.Parameter(torch.ones(1))\n",
        "        self.beta = torch.nn.Parameter(torch.zeros(1))\n",
        "\n",
        "    def forward(self, x):\n",
        "        mean = x.mean(-1, keepdim=True)\n",
        "        std = x.std(-1, keepdim=True)\n",
        "\n",
        "        return self.alpha * (x - mean) / (std + self.eps)\n",
        "\n",
        "\n",
        ""
      ],
      "metadata": {
        "id": "2Il4ARG1jq6e"
      },
      "execution_count": null,
      "outputs": []
    },
    {
      "cell_type": "code",
      "source": [
        "my_tensor = torch.arange(6).reshape(2, 3)\n",
        "test_tensor = torch.arange(0, 6, dtype=torch.float).unsqueeze(1)\n",
        "\n",
        "#print(my_tensor)\n",
        "print(test_tensor.shape)\n",
        "print(test_tensor.unsqueeze(0).shape)\n",
        "#print(\"Original tensor shape:\", my_tensor.shape)\n",
        "#print(\"Original tensor:\\n\", my_tensor)"
      ],
      "metadata": {
        "colab": {
          "base_uri": "https://localhost:8080/"
        },
        "id": "vdJ-uGEORerY",
        "outputId": "9d5c645d-d85a-4844-c667-759ff5a928c3"
      },
      "execution_count": 36,
      "outputs": [
        {
          "output_type": "stream",
          "name": "stdout",
          "text": [
            "torch.Size([6, 1])\n",
            "torch.Size([1, 6, 1])\n"
          ]
        }
      ]
    },
    {
      "cell_type": "code",
      "source": [],
      "metadata": {
        "id": "Nqn9ZXKegell"
      },
      "execution_count": null,
      "outputs": []
    }
  ]
}